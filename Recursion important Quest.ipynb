{
 "cells": [
  {
   "cell_type": "markdown",
   "metadata": {},
   "source": [
    "Factorial using recursion"
   ]
  },
  {
   "cell_type": "code",
   "execution_count": null,
   "metadata": {},
   "outputs": [],
   "source": [
    "def fact(n):\n",
    "    if n==1:\n",
    "        return 1\n",
    "    \n",
    "    prev=fact(n-1)\n",
    "    \n",
    "    return n*prev\n",
    "\n",
    "n=int(input())\n",
    "print(fact(n))\n",
    "    "
   ]
  },
  {
   "cell_type": "markdown",
   "metadata": {},
   "source": [
    "Sum of n natural number using recursion"
   ]
  },
  {
   "cell_type": "code",
   "execution_count": null,
   "metadata": {},
   "outputs": [],
   "source": [
    "def summ(n):\n",
    "\n",
    "    if n==1:\n",
    "        return n\n",
    "    \n",
    "    prev=summ(n-1)\n",
    "    \n",
    "    return n+prev\n",
    "\n",
    "n=int(input())\n",
    "print(summ(n))\n",
    "    \n",
    "    "
   ]
  },
  {
   "cell_type": "markdown",
   "metadata": {},
   "source": [
    "Power of a number using recursion"
   ]
  },
  {
   "cell_type": "code",
   "execution_count": null,
   "metadata": {},
   "outputs": [],
   "source": [
    "def powerr(n,i):\n",
    "    if i==0:\n",
    "        return 1\n",
    "    \n",
    "    prev=powerr(n,i-1)\n",
    "    \n",
    "    return n*prev\n",
    "\n",
    "n=int(input())\n",
    "i=int(input())\n",
    "print(powerr(n,i))"
   ]
  },
  {
   "cell_type": "markdown",
   "metadata": {},
   "source": [
    "printing no. 1,2,3,....n using recursion"
   ]
  },
  {
   "cell_type": "code",
   "execution_count": null,
   "metadata": {},
   "outputs": [],
   "source": [
    "def printNo(n):\n",
    "    \n",
    "    if n==0:\n",
    "        return\n",
    "    \n",
    "    printNo(n-1)\n",
    "    \n",
    "    print(n)\n",
    "    \n",
    "    \n",
    "\n",
    "n=int(input())\n",
    "printNo(n)"
   ]
  },
  {
   "cell_type": "markdown",
   "metadata": {},
   "source": [
    "printing n to 1 using recursion"
   ]
  },
  {
   "cell_type": "code",
   "execution_count": null,
   "metadata": {},
   "outputs": [],
   "source": [
    "def ptr(n):\n",
    "    \n",
    "    if n==0:\n",
    "        return\n",
    "    \n",
    "    print(n)\n",
    "    \n",
    "    ptr(n-1)\n",
    "    \n",
    "n=int(input())\n",
    "ptr(n)\n",
    "    "
   ]
  },
  {
   "cell_type": "markdown",
   "metadata": {},
   "source": [
    "nth fibonacci no. using recursion"
   ]
  },
  {
   "cell_type": "code",
   "execution_count": null,
   "metadata": {},
   "outputs": [],
   "source": [
    "def fibo(n):\n",
    "    \n",
    "    if n==1 or n==0:\n",
    "        return n\n",
    "    \n",
    "    return fibo(n-1)+fibo(n-2)\n",
    "\n",
    "n=int(input())\n",
    "print(fibo(n))"
   ]
  },
  {
   "cell_type": "markdown",
   "metadata": {},
   "source": [
    "sum of elements of array using recursion"
   ]
  },
  {
   "cell_type": "code",
   "execution_count": null,
   "metadata": {},
   "outputs": [],
   "source": [
    "def arrsum(arr):\n",
    "    n=len(arr)\n",
    "    \n",
    "    if n==0:\n",
    "        return 0\n",
    "    \n",
    "    prev=arrsum(arr[1:])\n",
    "    \n",
    "    return arr[0]+prev\n",
    "\n",
    "\n",
    "\n",
    "n=int(input())\n",
    "arr=[int(x) for x in input().split()]\n",
    "print(arrsum(arr))"
   ]
  },
  {
   "cell_type": "markdown",
   "metadata": {},
   "source": [
    "Check Number in Array using recursion"
   ]
  },
  {
   "cell_type": "code",
   "execution_count": null,
   "metadata": {},
   "outputs": [],
   "source": [
    "def check(arr,i):\n",
    "    \n",
    "    l=len(arr)\n",
    "    \n",
    "    if l==0:\n",
    "        return 0\n",
    "    \n",
    "    return arr[0]==i or check(arr[1:],i)\n",
    "\n",
    "    \n",
    "n=int(input())\n",
    "arr=[int(x) for x in input().split()]\n",
    "i=int(input())\n",
    "if check(arr,i):\n",
    "    print(True)\n",
    "else:\n",
    "    print(False)\n",
    "    "
   ]
  },
  {
   "cell_type": "markdown",
   "metadata": {},
   "source": [
    "check if list is sorted or not     very *Important*"
   ]
  },
  {
   "cell_type": "code",
   "execution_count": null,
   "metadata": {},
   "outputs": [],
   "source": [
    "def checksorted(arr):\n",
    "    l=len(arr)\n",
    "    \n",
    "    if l==0 or l==1:\n",
    "        return True\n",
    "    \n",
    "    if arr[0]>arr[1]:\n",
    "        return False\n",
    "    \n",
    "    prev=checksorted(arr[1:])\n",
    "    \n",
    "    return prev\n",
    "\n",
    "\n",
    "n=int(input())\n",
    "arr=[int(x) for x in input().split()]\n",
    "print(checksorted(arr))\n"
   ]
  },
  {
   "cell_type": "markdown",
   "metadata": {},
   "source": [
    "find first index of repeating elements in array using recursion\n",
    "using copy array method"
   ]
  },
  {
   "cell_type": "code",
   "execution_count": null,
   "metadata": {},
   "outputs": [],
   "source": [
    "def fini(arr,x):\n",
    "    \n",
    "    l=len(arr)\n",
    "    \n",
    "    if l==0:\n",
    "        return -1\n",
    "    \n",
    "    if arr[0]==x:\n",
    "        return 0\n",
    "    \n",
    "    prev=fini(arr[1:],x)\n",
    "    \n",
    "    if prev!=-1:\n",
    "        return prev+1\n",
    "    \n",
    "    else:\n",
    "        return -1\n",
    "    \n",
    "n=int(input())\n",
    "arr=[int(x) for x in input().split()]\n",
    "p=int(input())\n",
    "print(fini(arr,p))"
   ]
  },
  {
   "cell_type": "markdown",
   "metadata": {},
   "source": [
    "find first index of repeating elements in array using recursion\n",
    "using start index method"
   ]
  },
  {
   "cell_type": "code",
   "execution_count": null,
   "metadata": {},
   "outputs": [],
   "source": [
    "def fini(arr,x,si):\n",
    "    \n",
    "    l=len(arr)\n",
    "    \n",
    "    if si==l:\n",
    "        return -1\n",
    "    \n",
    "    if arr[si]==x:\n",
    "        return si\n",
    "\n",
    "    return fini(arr,x,si+1)\n",
    "\n",
    "n=int(input())\n",
    "arr=[int(x) for x in input().split()]\n",
    "p=int(input())\n",
    "si=0\n",
    "fini(arr,p,si)"
   ]
  },
  {
   "cell_type": "markdown",
   "metadata": {},
   "source": [
    "find last index of repeating elements in array using recursion\n",
    "using array copying method"
   ]
  },
  {
   "cell_type": "code",
   "execution_count": null,
   "metadata": {},
   "outputs": [],
   "source": [
    "def lasti(arr,x):\n",
    "    \n",
    "    l=len(arr)\n",
    "    \n",
    "    if l==0:\n",
    "        return -1\n",
    "\n",
    "    prev=lasti(arr[1:],x)\n",
    "    \n",
    "    if prev!=-1:\n",
    "        return prev+1\n",
    "    \n",
    "    else:\n",
    "        \n",
    "        if arr[0]==x:\n",
    "            return 0\n",
    "        \n",
    "        else:\n",
    "            return -1\n",
    "\n",
    "n=int(input())\n",
    "arr=[int(x) for x in input().split()]\n",
    "p=int(input())\n",
    "lasti(arr,p)"
   ]
  },
  {
   "cell_type": "markdown",
   "metadata": {},
   "source": [
    "find last index of repeating elements in array using recursion\n",
    "using starting index (si) method"
   ]
  },
  {
   "cell_type": "code",
   "execution_count": null,
   "metadata": {},
   "outputs": [],
   "source": [
    "def lastisi(arr,x,si):\n",
    "    if si==len(arr):\n",
    "        return -1\n",
    "    \n",
    "    prev=lastisi(arr,x,si+1)\n",
    "    \n",
    "    if prev!=-1:\n",
    "        return prev\n",
    "    \n",
    "    else:\n",
    "        if arr[si]==x:\n",
    "            return si\n",
    "        \n",
    "        else:\n",
    "            return -1\n",
    "        \n",
    "n=int(input())\n",
    "arr=[int(x) for x in input().split()]\n",
    "x=int(input())\n",
    "si=0\n",
    "print(lastisi(arr,x,si))\n"
   ]
  },
  {
   "cell_type": "markdown",
   "metadata": {},
   "source": [
    "exchanging characters in a givrn string using recursion"
   ]
  },
  {
   "cell_type": "code",
   "execution_count": null,
   "metadata": {},
   "outputs": [],
   "source": [
    "def replacement(str,a,b):\n",
    "    \n",
    "    if len(str)==0:\n",
    "        return str\n",
    "    \n",
    "    prev=replacement(str[1:],a,b)\n",
    "    \n",
    "    if str[0]==a:\n",
    "        return b+prev\n",
    "    \n",
    "    else:\n",
    "        return str[0]+prev\n",
    "\n",
    "str=input()\n",
    "\n",
    "print(replacement(str,'x','y'))"
   ]
  },
  {
   "cell_type": "markdown",
   "metadata": {},
   "source": [
    "removing character in given string using recursion"
   ]
  },
  {
   "cell_type": "code",
   "execution_count": null,
   "metadata": {},
   "outputs": [],
   "source": [
    "def remov(str,a):\n",
    "    \n",
    "    if len(str)==0:\n",
    "        return str\n",
    "    \n",
    "    prev=remov(str[1:],a)\n",
    "    \n",
    "    if str[0]==a:\n",
    "        return str.replace(a,'')\n",
    "    \n",
    "    else:\n",
    "        return str[0]+prev\n",
    "        \n",
    "str=input()\n",
    "print(remov(str,'x'))"
   ]
  },
  {
   "cell_type": "markdown",
   "metadata": {},
   "source": [
    "removing adjacent duplicates in string using loop"
   ]
  },
  {
   "cell_type": "code",
   "execution_count": null,
   "metadata": {},
   "outputs": [],
   "source": [
    "def rmovdup(str):\n",
    "    \n",
    "    n=len(str)\n",
    "    \n",
    "    ptr=''\n",
    "    \n",
    "    for i in range(n-1):\n",
    "        \n",
    "        if str[i]==str[i+1]:\n",
    "            i=i+1\n",
    "            \n",
    "        else:\n",
    "            ptr+=str[i]\n",
    "            \n",
    "            \n",
    "    \n",
    "    if str[-1]==str[-2]:\n",
    "        return ptr+str[i]\n",
    "    \n",
    "    else:\n",
    "        return ptr+str[i+1]\n",
    "            \n",
    "    \n",
    "str=input()\n",
    "print(rmovdup(str))"
   ]
  },
  {
   "cell_type": "markdown",
   "metadata": {},
   "source": [
    "removing adjacent duplicates in string using recursion"
   ]
  },
  {
   "cell_type": "code",
   "execution_count": null,
   "metadata": {},
   "outputs": [],
   "source": [
    "def remove(string):\n",
    "    if len(string) == 0 or len(string) == 1:\n",
    "        return string\n",
    "    \n",
    "    smallOutput = remove(string[1:])\n",
    "    if string[0] == string[1]:\n",
    "        return smallOutput\n",
    "    else:\n",
    "        return string[0] + smallOutput\n",
    "\n",
    "# Main\n",
    "string = input().strip()\n",
    "print(remove(string))\n"
   ]
  },
  {
   "cell_type": "markdown",
   "metadata": {},
   "source": [
    "Reverse Each Word in a string of line (without recursion)"
   ]
  },
  {
   "cell_type": "code",
   "execution_count": null,
   "metadata": {},
   "outputs": [],
   "source": [
    "\n",
    "from sys import stdin\n",
    "\n",
    "\n",
    "def reverseEachWord(string) :\n",
    "# Your code goes here\n",
    "    \n",
    "    li = string.split(' ')\n",
    "    size = len(li)\n",
    "\n",
    "    for i in range(size):\n",
    "        s = li[i]\n",
    "        oSize = len(s)\n",
    "        for j in range(oSize-1, -1,-1):\n",
    "            print(s[j],end ='')\n",
    "        print('', end =' ')\n",
    "\n",
    "\n",
    "\n",
    "#main\n",
    "string = stdin.readline().strip()\n",
    "\n",
    "reverseEachWord(string)\n"
   ]
  },
  {
   "cell_type": "markdown",
   "metadata": {},
   "source": [
    "Input 4210\n",
    "Output four two one zero"
   ]
  },
  {
   "cell_type": "code",
   "execution_count": null,
   "metadata": {},
   "outputs": [],
   "source": [
    "def numbtoword(n):\n",
    "    \n",
    "    wordlist=['Zero','One','Two','Three','Four','Five','Six','Seven','Eight','Nine']\n",
    "    \n",
    "    if n==0:\n",
    "        return\n",
    "    \n",
    "    numbtoword(n//10)\n",
    "    \n",
    "    print(wordlist[n%10],end=' ')\n",
    "    \n",
    "\n",
    "n=int(input())\n",
    "numbtoword(n)"
   ]
  },
  {
   "cell_type": "markdown",
   "metadata": {},
   "source": [
    "binary Search using Recursion"
   ]
  },
  {
   "cell_type": "code",
   "execution_count": null,
   "metadata": {},
   "outputs": [],
   "source": [
    "def binarySearch(arr,x,start,end):\n",
    "    \n",
    "    if start>end:\n",
    "        return -1\n",
    "    \n",
    "    mid=(start+end)//2\n",
    "    \n",
    "    if arr[mid]==x:\n",
    "        return mid\n",
    "    \n",
    "    elif arr[mid]>x:\n",
    "        return binarySearch(arr,x,start,mid-1)\n",
    "    \n",
    "    else:\n",
    "        return binarySearch(arr,x,mid+1,end)\n",
    "    \n",
    "\n",
    "print(\"enter the sorted values of array in a single line space seperated to each value\")\n",
    "arr=[int(x) for x in input().split()]\n",
    "\n",
    "print(\"enter the value to be search\")\n",
    "x=int(input())\n",
    "\n",
    "l=len(arr)\n",
    "\n",
    "print(binarySearch(arr,x,0,l-1))\n",
    "    "
   ]
  },
  {
   "cell_type": "markdown",
   "metadata": {},
   "source": [
    "Merge Sort using Recursion"
   ]
  },
  {
   "cell_type": "code",
   "execution_count": null,
   "metadata": {},
   "outputs": [],
   "source": [
    "def merge(arr,a1,a2):\n",
    "    i=0\n",
    "    j=0\n",
    "    k=0\n",
    "    \n",
    "    while i<len(a1) and j<len(a2):\n",
    "        if a1[i]<a2[j]:\n",
    "            arr[k]=a1[i]\n",
    "            k+=1\n",
    "            i+=1\n",
    "            \n",
    "        else:\n",
    "            arr[k]=a2[j]\n",
    "            k+=1\n",
    "            j+=1\n",
    "            \n",
    "    while i<len(a1):\n",
    "        arr[k]=a1[i]\n",
    "        k+=1\n",
    "        i+=1\n",
    "        \n",
    "    while j<len(a2):\n",
    "        arr[k]=a2[j]\n",
    "        k+=1\n",
    "        j+=1\n",
    "    \n",
    "    \n",
    "        \n",
    "def mergeSort(arr):\n",
    "    \n",
    "    if len(arr)==0 or len(arr)==1:\n",
    "        return\n",
    "    \n",
    "    mid=len(arr)//2\n",
    "    \n",
    "    a1=arr[0:mid]\n",
    "    a2=arr[mid:]\n",
    "    \n",
    "    mergeSort(a1)\n",
    "    mergeSort(a2)\n",
    "    \n",
    "    merge(arr,a1,a2)\n",
    "    \n",
    "    \n",
    "n=int(input())    \n",
    "arr=[int(x) for x in input().split()]\n",
    "mergeSort(arr)\n",
    "for x in range(len(arr)):\n",
    "    print(arr[x],end=' ')\n"
   ]
  },
  {
   "cell_type": "code",
   "execution_count": null,
   "metadata": {},
   "outputs": [],
   "source": []
  }
 ],
 "metadata": {
  "kernelspec": {
   "display_name": "Python 3",
   "language": "python",
   "name": "python3"
  },
  "language_info": {
   "codemirror_mode": {
    "name": "ipython",
    "version": 3
   },
   "file_extension": ".py",
   "mimetype": "text/x-python",
   "name": "python",
   "nbconvert_exporter": "python",
   "pygments_lexer": "ipython3",
   "version": "3.7.6"
  }
 },
 "nbformat": 4,
 "nbformat_minor": 4
}
